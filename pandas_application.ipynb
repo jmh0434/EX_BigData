{
 "cells": [
  {
   "cell_type": "code",
   "execution_count": 1,
   "id": "2bfb436f",
   "metadata": {},
   "outputs": [
    {
     "name": "stdout",
     "output_type": "stream",
     "text": [
      "   apple  orange  banana\n",
      "1     45      68      37\n",
      "2     48      10      88\n",
      "3     65      84      71\n",
      "4     68      22      89\n",
      "1     38      76      17\n",
      "2     13       6       2\n",
      "3     73      80      77\n",
      "4     10      65      72\n",
      "   apple  orange  banana  apple  orange  banana\n",
      "1     45      68      37     38      76      17\n",
      "2     48      10      88     13       6       2\n",
      "3     65      84      71     73      80      77\n",
      "4     68      22      89     10      65      72\n"
     ]
    }
   ],
   "source": [
    "import numpy as np\n",
    "import pandas as pd\n",
    "\n",
    "# 지정한 인덱스와 컬럼을 가진 DataFrame을 난수로 생성하는 함수\n",
    "def make_random_df(index, columns, seed):\n",
    "    np.random.seed(seed)\n",
    "    df = pd.DataFrame()\n",
    "    for column in columns:\n",
    "        df[column] = np.random.choice(range(1, 101), len(index))\n",
    "    df.index = index\n",
    "    return df\n",
    "\n",
    "# 인덱스와 컬럼이 일치하는 DataFrame읆 만든다.\n",
    "columns = [\"apple\", \"orange\", \"banana\"]\n",
    "df_data1 = make_random_df(range(1, 5), columns, 0)\n",
    "df_data2 = make_random_df(range(1, 5), columns, 1)\n",
    "\n",
    "# df_data1과 df_data2를 세로로 연결하여 df1에 대입\n",
    "df1 = pd.concat([df_data1, df_data2], axis = 0)\n",
    "\n",
    "# df_data1과 df_data2를 가로로 연결하여 df2에 대입\n",
    "df2 = pd.concat([df_data1, df_data2], axis = 1)\n",
    "\n",
    "print(df1)\n",
    "print(df2)"
   ]
  },
  {
   "cell_type": "code",
   "execution_count": 3,
   "id": "f7934fcb",
   "metadata": {},
   "outputs": [
    {
     "name": "stdout",
     "output_type": "stream",
     "text": [
      "   apple  orange  banana  kiwifruit\n",
      "1   45.0      68      37        NaN\n",
      "2   48.0      10      88        NaN\n",
      "3   65.0      84      71        NaN\n",
      "4   68.0      22      89        NaN\n",
      "1    NaN      38      17       76.0\n",
      "3    NaN      13       2        6.0\n",
      "5    NaN      73      77       80.0\n",
      "7    NaN      10      72       65.0\n",
      "   apple  orange  banana  orange  kiwifruit  banana\n",
      "1   45.0    68.0    37.0    38.0       76.0    17.0\n",
      "2   48.0    10.0    88.0     NaN        NaN     NaN\n",
      "3   65.0    84.0    71.0    13.0        6.0     2.0\n",
      "4   68.0    22.0    89.0     NaN        NaN     NaN\n",
      "5    NaN     NaN     NaN    73.0       80.0    77.0\n",
      "7    NaN     NaN     NaN    10.0       65.0    72.0\n"
     ]
    }
   ],
   "source": [
    "import numpy as np\n",
    "import pandas as pd\n",
    "\n",
    "# 지정한 인덱스와 컬럼을 가진 DataFrame을 난수로 생성하는 함수\n",
    "def make_random_df(index, columns, seed):\n",
    "    np.random.seed(seed)\n",
    "    df = pd.DataFrame()\n",
    "    for column in columns:\n",
    "        df[column] = np.random.choice(range(1, 101), len(index))\n",
    "    df.index = index\n",
    "    return df\n",
    "\n",
    "columns1 = [\"apple\", \"orange\", \"banana\"]\n",
    "columns2 = [\"orange\", \"kiwifruit\", \"banana\"]\n",
    "\n",
    "# 인덱스가 1, 2, 3, 4고, 컬럼이 columns1인 DataFrame을 만든다.\n",
    "df_data1 = make_random_df(range(1, 5), columns1, 0)\n",
    "\n",
    "# 인덱스가 1, 3, 5, 7이고, 컬럼이 columns2인 DataFrame을 만든다.\n",
    "df_data2 = make_random_df(np.arange(1, 8, 2), columns2, 1)\n",
    "\n",
    "# df_data1과 df_data2를 세로로 연결하여 df1에 대입\n",
    "df1 = pd.concat([df_data1, df_data2], axis = 0)\n",
    "\n",
    "# df_data1과 df_data2를 가로로 연결하여 df2에 대입\n",
    "df2 = pd.concat([df_data1, df_data2], axis = 1)\n",
    "\n",
    "print(df1)\n",
    "print(df2)"
   ]
  },
  {
   "cell_type": "code",
   "execution_count": 4,
   "id": "02672242",
   "metadata": {},
   "outputs": [
    {
     "name": "stdout",
     "output_type": "stream",
     "text": [
      "      X                   Y              \n",
      "  apple orange banana apple orange banana\n",
      "1    45     68     37    38     76     17\n",
      "2    48     10     88    13      6      2\n",
      "3    65     84     71    73     80     77\n",
      "4    68     22     89    10     65     72\n",
      "\n",
      "1    17\n",
      "2     2\n",
      "3    77\n",
      "4    72\n",
      "Name: (Y, banana), dtype: int64\n"
     ]
    }
   ],
   "source": [
    "import numpy as np\n",
    "import pandas as pd\n",
    "\n",
    "# 지정한 인덱스와 컬럼을 가진 DataFrame을 난수로 생성하는 함수\n",
    "def make_random_df(index, columns, seed):\n",
    "    np.random.seed(seed)\n",
    "    df = pd.DataFrame()\n",
    "    for column in columns:\n",
    "        df[column] = np.random.choice(range(1, 101), len(index))\n",
    "    df.index = index\n",
    "    return df\n",
    "\n",
    "# 인덱스와 컬럼이 일치하는 DataFrame읆 만든다.\n",
    "columns = [\"apple\", \"orange\", \"banana\"]\n",
    "df_data1 = make_random_df(range(1, 5), columns, 0)\n",
    "df_data2 = make_random_df(range(1, 5), columns, 1)\n",
    "\n",
    "# df_data1과 df_data2를 가로로 연결하고, keys로 \"X\"와 \"Y\"를 지정하여 MultiIndex로 만든 뒤 df에 대입\n",
    "df = pd.concat([df_data1, df_data2], axis = 1, keys=[\"X\", \"Y\"])\n",
    "\n",
    "# df의 \"Y\"레벨 \"banana\"를 Y_banana에 대입\n",
    "Y_banana = df[\"Y\", \"banana\"]\n",
    "\n",
    "print(df)\n",
    "print()\n",
    "print(Y_banana)"
   ]
  },
  {
   "cell_type": "code",
   "execution_count": 7,
   "id": "14af475c",
   "metadata": {},
   "outputs": [
    {
     "name": "stdout",
     "output_type": "stream",
     "text": [
      "       fruits  year  amount\n",
      "0       apple  2001       1\n",
      "1      orange  2002       4\n",
      "2      banana  2001       5\n",
      "3  strawberry  2008       6\n",
      "4   kiwifruit  2006       3\n",
      "\n",
      "       fruits  year  price\n",
      "0       apple  2001    150\n",
      "1      orange  2002    120\n",
      "2      banana  2001    100\n",
      "3  strawberry  2008    250\n",
      "4       mango  2007   3000\n",
      "\n",
      "       fruits  year_x  amount  year_y  price\n",
      "0       apple    2001       1    2001    150\n",
      "1      orange    2002       4    2002    120\n",
      "2      banana    2001       5    2001    100\n",
      "3  strawberry    2008       6    2008    250\n"
     ]
    }
   ],
   "source": [
    "import numpy as np\n",
    "import pandas as pd\n",
    "\n",
    "data1 = {\"fruits\": [\"apple\", \"orange\", \"banana\", \"strawberry\", \"kiwifruit\"],\n",
    "         \"year\": [2001, 2002, 2001, 2008, 2006],\n",
    "         \"amount\": [1, 4, 5, 6, 3]}\n",
    "df1 = pd.DataFrame(data1)\n",
    "\n",
    "data2 = {\"fruits\": [\"apple\", \"orange\", \"banana\", \"strawberry\", \"mango\"],\n",
    "         \"year\": [2001, 2002, 2001, 2008, 2007],\n",
    "         \"price\": [150, 120, 100, 250, 3000]}\n",
    "df2 = pd.DataFrame(data2)\n",
    "\n",
    "print(df1)\n",
    "print()\n",
    "print(df2)\n",
    "print()\n",
    "\n",
    "# df1과 df2의 컬럼 \"fruits\"를 key로 하여 내부 결합한 DataFrame을 df3에 대입\n",
    "df3 = pd.merge(df1, df2, on = \"fruits\", how = \"inner\")\n",
    "print(df3)"
   ]
  },
  {
   "cell_type": "code",
   "execution_count": 2,
   "id": "35062403",
   "metadata": {},
   "outputs": [
    {
     "name": "stdout",
     "output_type": "stream",
     "text": [
      "       fruits  year  amount\n",
      "0       apple  2001       1\n",
      "1      orange  2002       4\n",
      "2      banana  2001       5\n",
      "3  strawberry  2008       6\n",
      "4   kiwifruit  2006       3\n",
      "\n",
      "       fruits  year  price\n",
      "0       apple  2001    150\n",
      "1      orange  2002    120\n",
      "2      banana  2001    100\n",
      "3  strawberry  2000    250\n",
      "4       mango  2007   3000\n",
      "\n",
      "       fruits  year_x  amount  year_y   price\n",
      "0       apple  2001.0     1.0  2001.0   150.0\n",
      "1      orange  2002.0     4.0  2002.0   120.0\n",
      "2      banana  2001.0     5.0  2001.0   100.0\n",
      "3  strawberry  2008.0     6.0  2000.0   250.0\n",
      "4   kiwifruit  2006.0     3.0     NaN     NaN\n",
      "5       mango     NaN     NaN  2007.0  3000.0\n"
     ]
    }
   ],
   "source": [
    "import numpy as np\n",
    "import pandas as pd\n",
    "\n",
    "data1 = {\"fruits\": [\"apple\", \"orange\", \"banana\", \"strawberry\", \"kiwifruit\"],\n",
    "         \"year\": [2001, 2002, 2001, 2008, 2006],\n",
    "         \"amount\": [1, 4, 5, 6, 3]}\n",
    "df1 = pd.DataFrame(data1)\n",
    "\n",
    "data2 = {\"fruits\": [\"apple\", \"orange\", \"banana\", \"strawberry\", \"mango\"],\n",
    "         \"year\": [2001, 2002, 2001, 2000, 2007],\n",
    "         \"price\": [150, 120, 100, 250, 3000]}\n",
    "df2 = pd.DataFrame(data2)\n",
    "\n",
    "print(df1)\n",
    "print()\n",
    "print(df2)\n",
    "print()\n",
    "\n",
    "# df1과 df2의 컬럼 \"fruits\"를 Key로 하여 외부 결합한 DataFrame을 df3에 대입\n",
    "df3 = pd.merge(df1, df2, on = \"fruits\", how = \"outer\")\n",
    "\n",
    "print(df3)"
   ]
  },
  {
   "cell_type": "code",
   "execution_count": 6,
   "id": "36b24080",
   "metadata": {},
   "outputs": [
    {
     "name": "stdout",
     "output_type": "stream",
     "text": [
      "   id_x  item_id  customer_id  id_y name\n",
      "0  1000     2546          103   103   소희\n",
      "1  1001     4352          101   101   광수\n",
      "2  1002      342          101   101   광수\n"
     ]
    }
   ],
   "source": [
    "import pandas as pd\n",
    "\n",
    "# 주문 정보\n",
    "order_df = pd.DataFrame([[1000, 2546, 103],\n",
    "                         [1001, 4352, 101],\n",
    "                         [1002, 342, 101]],\n",
    "                       columns=[\"id\", \"item_id\", \"customer_id\"])\n",
    "\n",
    "# 고객 정보\n",
    "customer_df = pd.DataFrame([[101, \"광수\"],\n",
    "                            [102, \"민호\"],\n",
    "                            [103, \"소희\"]],\n",
    "                          columns=[\"id\", \"name\"])\n",
    "\n",
    "# order_df를 바탕으로 \"id\"를 customer_df와 결합하여 order_df에 대입\n",
    "order_df = pd.merge(order_df, customer_df, left_on = \"customer_id\", right_on = \"id\", how = \"inner\")\n",
    "print(order_df)"
   ]
  },
  {
   "cell_type": "code",
   "execution_count": 11,
   "id": "e88e1cfe",
   "metadata": {},
   "outputs": [
    {
     "name": "stdout",
     "output_type": "stream",
     "text": [
      "     id  item_id  customer_id name\n",
      "0  1000     2546          103   소희\n",
      "1  1001     4352          101   광수\n",
      "2  1002      342          101   광수\n"
     ]
    }
   ],
   "source": [
    "import pandas as pd\n",
    "\n",
    "# 주문 정보\n",
    "order_df = pd.DataFrame([[1000, 2546, 103],\n",
    "                         [1001, 4352, 101],\n",
    "                         [1002, 342, 101]],\n",
    "                       columns = [\"id\", \"item_id\", \"customer_id\"])\n",
    "\n",
    "# 고객 정보\n",
    "customer_df = pd.DataFrame([[\"광수\"],\n",
    "                            [\"민호\"],\n",
    "                            [\"소희\"]],\n",
    "                            columns = [\"name\"])\n",
    "customer_df.index = [101, 102, 103]\n",
    "\n",
    "# customer_df를 바탕으로 \"name\"을 order_df와 결합하여 order_df에 대입\n",
    "order_df = pd.merge(order_df, customer_df, left_on = \"customer_id\", right_index = True, how = \"inner\")\n",
    "print(order_df)"
   ]
  },
  {
   "cell_type": "code",
   "execution_count": 12,
   "id": "953fea95",
   "metadata": {},
   "outputs": [
    {
     "name": "stdout",
     "output_type": "stream",
     "text": [
      "   apple  orange  banana  strawberry  kiwifruit\n",
      "1      6       8       6           3         10\n",
      "2      1       7      10           4         10\n",
      "3      4       9       9           9          1\n",
      "    apple  orange  banana  strawberry  kiwifruit\n",
      "8       6       8       4           8          8\n",
      "9       3       9       6           1          3\n",
      "10      5       2       1           2          1\n"
     ]
    }
   ],
   "source": [
    "import numpy as np\n",
    "import pandas as pd\n",
    "\n",
    "np.random.seed(0)\n",
    "columns = [\"apple\", \"orange\", \"banana\", \"strawberry\", \"kiwifruit\"]\n",
    "\n",
    "# DataFrame을 생성하고 열 추가\n",
    "df = pd.DataFrame()\n",
    "for column in columns:\n",
    "    df[column] = np.random.choice(range(1, 11), 10)\n",
    "df.index = range(1, 11)\n",
    "\n",
    "# df의 첫 3행을 취득하여 df_head에 대입\n",
    "df_head = df.head(3)\n",
    "\n",
    "# df의 끝 3행을 취득하여 df_tail에 대입\n",
    "df_tail = df.tail(3)\n",
    "\n",
    "print(df_head)\n",
    "print(df_tail)"
   ]
  },
  {
   "cell_type": "code",
   "execution_count": 14,
   "id": "644a1638",
   "metadata": {},
   "outputs": [
    {
     "name": "stdout",
     "output_type": "stream",
     "text": [
      "    apple  orange  banana  strawberry  kiwifruit\n",
      "1       6       8       6           3         10\n",
      "2       1       7      10           4         10\n",
      "3       4       9       9           9          1\n",
      "4       4       9      10           2          5\n",
      "5       8       2       5           4          8\n",
      "6      10       7       4           4          4\n",
      "7       4       8       1           4          3\n",
      "8       6       8       4           8          8\n",
      "9       3       9       6           1          3\n",
      "10      5       2       1           2          1\n",
      "    apple  orange  banana  strawberry  kiwifruit\n",
      "1      12      16      12           6         20\n",
      "2       2      14      20           8         20\n",
      "3       8      18      18          18          2\n",
      "4       8      18      20           4         10\n",
      "5      16       4      10           8         16\n",
      "6      20      14       8           8          8\n",
      "7       8      16       2           8          6\n",
      "8      12      16       8          16         16\n",
      "9       6      18      12           2          6\n",
      "10     10       4       2           4          2\n",
      "    apple  orange  banana  strawberry  kiwifruit\n",
      "1      36      64      36           9        100\n",
      "2       1      49     100          16        100\n",
      "3      16      81      81          81          1\n",
      "4      16      81     100           4         25\n",
      "5      64       4      25          16         64\n",
      "6     100      49      16          16         16\n",
      "7      16      64       1          16          9\n",
      "8      36      64      16          64         64\n",
      "9       9      81      36           1          9\n",
      "10     25       4       1           4          1\n",
      "       apple    orange    banana  strawberry  kiwifruit\n",
      "1   2.449490  2.828427  2.449490    1.732051   3.162278\n",
      "2   1.000000  2.645751  3.162278    2.000000   3.162278\n",
      "3   2.000000  3.000000  3.000000    3.000000   1.000000\n",
      "4   2.000000  3.000000  3.162278    1.414214   2.236068\n",
      "5   2.828427  1.414214  2.236068    2.000000   2.828427\n",
      "6   3.162278  2.645751  2.000000    2.000000   2.000000\n",
      "7   2.000000  2.828427  1.000000    2.000000   1.732051\n",
      "8   2.449490  2.828427  2.000000    2.828427   2.828427\n",
      "9   1.732051  3.000000  2.449490    1.000000   1.732051\n",
      "10  2.236068  1.414214  1.000000    1.414214   1.000000\n"
     ]
    }
   ],
   "source": [
    "import numpy as np\n",
    "import pandas as pd\n",
    "import math\n",
    "\n",
    "np.random.seed(0)\n",
    "columns = [\"apple\", \"orange\", \"banana\", \"strawberry\", \"kiwifruit\"]\n",
    "\n",
    "# DataFrame을 생성하고 열을 추가\n",
    "df = pd.DataFrame()\n",
    "for column in columns:\n",
    "    df[column] = np.random.choice(range(1, 11), 10)\n",
    "df.index = range(1, 11)\n",
    "\n",
    "# df의 각 요소를 두 배로 만들어 double_df에 대입\n",
    "double_df = df * 2\n",
    "\n",
    "# df의 각 요소를 제곱하여 square_df에 대입\n",
    "square_df = df * df\n",
    "\n",
    "# df의 각 요소를 제곱근 계산하여 sqrt_df에 대입\n",
    "sqrt_df = np.sqrt(df)\n",
    "\n",
    "print(df)\n",
    "print(double_df)\n",
    "print(square_df)\n",
    "print(sqrt_df)\n"
   ]
  },
  {
   "cell_type": "code",
   "execution_count": 15,
   "id": "e6d4fede",
   "metadata": {},
   "outputs": [
    {
     "name": "stdout",
     "output_type": "stream",
     "text": [
      "      apple  orange  banana  strawberry  kiwifruit\n",
      "mean    5.1     6.9     5.6         4.1        5.3\n",
      "max    10.0     9.0    10.0         9.0       10.0\n",
      "min     1.0     2.0     1.0         1.0        1.0\n"
     ]
    }
   ],
   "source": [
    "import numpy as np\n",
    "import pandas as pd\n",
    "\n",
    "np.random.seed(0)\n",
    "columns = [\"apple\", \"orange\", \"banana\", \"strawberry\", \"kiwifruit\"]\n",
    "\n",
    "# DataFrame을 생성하고 열을 추가\n",
    "df = pd.DataFrame()\n",
    "for column in columns : \n",
    "    df[column] = np.random.choice(range(1, 11), 10)\n",
    "df.index = range(1, 11)\n",
    "\n",
    "# df의 통계 정보 중 \"mean\", \"max\", \"min\"을 꺼내서 df_des에 대입\n",
    "df_des = df.describe().loc[[\"mean\", \"max\", \"min\"]]\n",
    "print(df_des)\n"
   ]
  },
  {
   "cell_type": "code",
   "execution_count": 16,
   "id": "31fbd827",
   "metadata": {},
   "outputs": [
    {
     "name": "stdout",
     "output_type": "stream",
     "text": [
      "    apple  orange  banana  strawberry  kiwifruit\n",
      "1       6       8       6           3         10\n",
      "2       1       7      10           4         10\n",
      "3       4       9       9           9          1\n",
      "4       4       9      10           2          5\n",
      "5       8       2       5           4          8\n",
      "6      10       7       4           4          4\n",
      "7       4       8       1           4          3\n",
      "8       6       8       4           8          8\n",
      "9       3       9       6           1          3\n",
      "10      5       2       1           2          1\n",
      "    apple  orange  banana  strawberry  kiwifruit\n",
      "1     2.0    -1.0    -3.0        -6.0        9.0\n",
      "2    -3.0    -2.0     0.0         2.0        5.0\n",
      "3    -4.0     7.0     4.0         5.0       -7.0\n",
      "4    -6.0     2.0     6.0        -2.0        1.0\n",
      "5     4.0    -6.0     4.0         0.0        5.0\n",
      "6     4.0    -1.0     0.0        -4.0       -4.0\n",
      "7     1.0    -1.0    -5.0         3.0        0.0\n",
      "8     1.0     6.0     3.0         6.0        7.0\n",
      "9     NaN     NaN     NaN         NaN        NaN\n",
      "10    NaN     NaN     NaN         NaN        NaN\n"
     ]
    }
   ],
   "source": [
    "import numpy as np\n",
    "import pandas as pd\n",
    "\n",
    "np.random.seed(0)\n",
    "columns = [\"apple\", \"orange\", \"banana\", \"strawberry\", \"kiwifruit\"]\n",
    "\n",
    "# DataFrame을 생성하고 열을 추가\n",
    "df = pd.DataFrame()\n",
    "for column in columns : \n",
    "    df[column] = np.random.choice(range(1, 11), 10)\n",
    "df.index = range(1, 11)\n",
    "\n",
    "# df의 각 행에 대해 2행 뒤와의 차이를 계산한 DataFrame을 df_diff에 대입\n",
    "df_diff = df.diff(-2, axis = 0)\n",
    "\n",
    "print(df)\n",
    "print(df_diff)"
   ]
  },
  {
   "cell_type": "code",
   "execution_count": 18,
   "id": "745f055f",
   "metadata": {},
   "outputs": [
    {
     "name": "stdout",
     "output_type": "stream",
     "text": [
      "  Prefecture  Area  Population Region\n",
      "0         강릉  1040      213527    강원도\n",
      "1         광주   430     1458915    전라도\n",
      "2         평창  1463       42218    강원도\n",
      "3         대전   539     1476955    충청도\n",
      "4         단양   780       29816    충청도\n",
      "          Area  Population\n",
      "Region                    \n",
      "강원도     1251.5    127872.5\n",
      "전라도      430.0   1458915.0\n",
      "충청도      659.5    753385.5\n"
     ]
    }
   ],
   "source": [
    "import pandas as pd\n",
    "\n",
    "# 도시 정보를 가진 DataFrame을 만든다.\n",
    "prefecture_df = pd.DataFrame([[\"강릉\", 1040, 213527, \"강원도\"],\n",
    "                              [\"광주\", 430, 1458915, \"전라도\"],\n",
    "                              [\"평창\", 1463, 42218, \"강원도\"],\n",
    "                              [\"대전\", 539, 1476955, \"충청도\"],\n",
    "                              [\"단양\", 780, 29816, \"충청도\"]],\n",
    "                            columns = [\"Prefecture\", \"Area\",\n",
    "                                       \"Population\", \"Region\"])\n",
    "\n",
    "print(prefecture_df)\n",
    "\n",
    "# prefecture_df를 지역(Region)으로 그룹화하여 grouped_region에 대입\n",
    "grouped_region = prefecture_df.groupby(\"Region\")\n",
    "\n",
    "# prefecture_df의 지역별 면적(Area)과 인구(Population)의 평균을 mean_df에 대입\n",
    "mean_df = grouped_region.mean()\n",
    "\n",
    "print(mean_df)"
   ]
  },
  {
   "cell_type": "code",
   "execution_count": 19,
   "id": "4aebdee8",
   "metadata": {},
   "outputs": [
    {
     "name": "stdout",
     "output_type": "stream",
     "text": [
      "430\n"
     ]
    }
   ],
   "source": [
    "import pandas as pd\n",
    "\n",
    "# 두 DataFrame 정의\n",
    "df1 = pd.DataFrame([[\"apple\", \"Fruit\", 120],\n",
    "                    [\"orange\", \"Fruit\", 60],\n",
    "                    [\"banana\", \"Fruit\", 100],\n",
    "                    [\"pumpkin\", \"Vegetable\", 150],\n",
    "                    [\"potato\", \"Vegetable\", 80]],\n",
    "                  columns = [\"Name\", \"Type\", \"Price\"])\n",
    "\n",
    "df2 = pd.DataFrame([[\"onion\", \"Vegetable\", 60],\n",
    "                    [\"carrot\", \"Vegetable\", 50],\n",
    "                    [\"beans\", \"Vegetable\", 100],\n",
    "                    [\"grape\", \"Fruit\", 160],\n",
    "                    [\"kiwifruit\", \"Fruit\", 80]],\n",
    "                  columns = [\"Name\", \"Type\", \"Price\"])\n",
    "\n",
    "df3 = pd.concat([df1, df2], axis = 0)\n",
    "\n",
    "# 과일을 추출하여 Price로 정렬\n",
    "df_fruit = df3.loc[df3[\"Type\"] == \"Fruit\"]\n",
    "df_fruit = df_fruit.sort_values(by = \"Price\")\n",
    "\n",
    "# 야채를 추출하여 Price로 정렬\n",
    "df_veg = df3.loc[df3[\"Type\"] == \"Vegetable\"]\n",
    "df_veg = df_veg.sort_values(by = \"Price\")\n",
    "\n",
    "# 과일과 야채의 상위 세 요소의 Price 합을 각각 계산\n",
    "print(sum(df_fruit[:3][\"Price\"]) + sum(df_veg[:3][\"Price\"]))\n"
   ]
  },
  {
   "cell_type": "code",
   "execution_count": 20,
   "id": "5f43a277",
   "metadata": {},
   "outputs": [
    {
     "name": "stdout",
     "output_type": "stream",
     "text": [
      "    국어  수학  사회  과학  영어  체육\n",
      "광수  30  45  12  45  87  56\n",
      "민호  65  47  83  17  58  43\n",
      "소희  64  63  86  57  46  73\n",
      "태양  38  47  62  91  63  82\n",
      "영희  65  36  85  94  36  62\n",
      "\n",
      "    국어  수학  사회  과학  영어  체육\n",
      "영희  65  36  85  94  36  62\n",
      "광수  30  45  12  45  87  56\n",
      "민호  65  47  83  17  58  43\n",
      "태양  38  47  62  91  63  82\n",
      "소희  64  63  86  57  46  73\n",
      "\n",
      "    국어  수학  사회  과학  영어  체육\n",
      "영희  70  41  90  99  41  67\n",
      "광수  35  50  17  50  92  61\n",
      "민호  70  52  88  22  63  48\n",
      "태양  43  52  67  96  68  87\n",
      "소희  69  68  91  62  51  78\n",
      "\n",
      "        국어    수학    사회    과학    영어    체육\n",
      "mean  57.4  52.6  70.6  65.8  63.0  68.2\n",
      "max   70.0  68.0  91.0  99.0  92.0  87.0\n",
      "min   35.0  41.0  17.0  22.0  41.0  48.0\n"
     ]
    }
   ],
   "source": [
    "import pandas as pd\n",
    "\n",
    "index = [\"광수\", \"민호\", \"소희\", \"태양\", \"영희\"]\n",
    "columns = [\"국어\", \"수학\", \"사회\", \"과학\", \"영어\"]\n",
    "data = [[30, 45, 12, 45, 87], [65, 47, 83, 17, 58], [64, 63, 86, 57, 46],\n",
    "        [38, 47, 62, 91, 63], [65, 36, 85, 94, 36]]\n",
    "df = pd.DataFrame(data, index = index, columns = columns)\n",
    "\n",
    "# df에 \"체육\"이라는 새 열을 만들고 pe_column의 데이터를 추가\n",
    "pe_column = pd.Series([56, 43, 73, 82, 62], index = [\"광수\", \"민호\", \"소희\", \"태양\", \"영희\"])\n",
    "df[\"체육\"] = pe_column\n",
    "print(df)\n",
    "print()\n",
    "\n",
    "# 수학을 오름차순으로 정렬\n",
    "df1 = df.sort_values(by=\"수학\", ascending = True)\n",
    "print(df1)\n",
    "print()\n",
    "\n",
    "# df1의 각 요소에 5점을 더하기\n",
    "df2 = df1 + 5\n",
    "print(df2)\n",
    "print()\n",
    "\n",
    "# df의 통계 정보 중에서 \"mean\", \"max\", \"min\"을 출력\n",
    "print(df2.describe().loc[[\"mean\", \"max\", \"min\"]])\n",
    "\n"
   ]
  },
  {
   "cell_type": "code",
   "execution_count": null,
   "id": "65cf2106",
   "metadata": {},
   "outputs": [],
   "source": []
  }
 ],
 "metadata": {
  "kernelspec": {
   "display_name": "Python 3 (ipykernel)",
   "language": "python",
   "name": "python3"
  },
  "language_info": {
   "codemirror_mode": {
    "name": "ipython",
    "version": 3
   },
   "file_extension": ".py",
   "mimetype": "text/x-python",
   "name": "python",
   "nbconvert_exporter": "python",
   "pygments_lexer": "ipython3",
   "version": "3.9.7"
  }
 },
 "nbformat": 4,
 "nbformat_minor": 5
}
