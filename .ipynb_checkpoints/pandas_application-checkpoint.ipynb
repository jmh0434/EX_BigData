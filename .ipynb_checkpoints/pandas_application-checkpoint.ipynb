{
 "cells": [
  {
   "cell_type": "code",
   "execution_count": 1,
   "id": "2bfb436f",
   "metadata": {},
   "outputs": [
    {
     "name": "stdout",
     "output_type": "stream",
     "text": [
      "   apple  orange  banana\n",
      "1     45      68      37\n",
      "2     48      10      88\n",
      "3     65      84      71\n",
      "4     68      22      89\n",
      "1     38      76      17\n",
      "2     13       6       2\n",
      "3     73      80      77\n",
      "4     10      65      72\n",
      "   apple  orange  banana  apple  orange  banana\n",
      "1     45      68      37     38      76      17\n",
      "2     48      10      88     13       6       2\n",
      "3     65      84      71     73      80      77\n",
      "4     68      22      89     10      65      72\n"
     ]
    }
   ],
   "source": [
    "import numpy as np\n",
    "import pandas as pd\n",
    "\n",
    "# 지정한 인덱스와 컬럼을 가진 DataFrame을 난수로 생성하는 함수\n",
    "def make_random_df(index, columns, seed):\n",
    "    np.random.seed(seed)\n",
    "    df = pd.DataFrame()\n",
    "    for column in columns:\n",
    "        df[column] = np.random.choice(range(1, 101), len(index))\n",
    "    df.index = index\n",
    "    return df\n",
    "\n",
    "# 인덱스와 컬럼이 일치하는 DataFrame읆 만든다.\n",
    "columns = [\"apple\", \"orange\", \"banana\"]\n",
    "df_data1 = make_random_df(range(1, 5), columns, 0)\n",
    "df_data2 = make_random_df(range(1, 5), columns, 1)\n",
    "\n",
    "# df_data1과 df_data2를 세로로 연결하여 df1에 대입\n",
    "df1 = pd.concat([df_data1, df_data2], axis = 0)\n",
    "\n",
    "# df_data1과 df_data2를 가로로 연결하여 df2에 대입\n",
    "df2 = pd.concat([df_data1, df_data2], axis = 1)\n",
    "\n",
    "print(df1)\n",
    "print(df2)"
   ]
  },
  {
   "cell_type": "code",
   "execution_count": 3,
   "id": "f7934fcb",
   "metadata": {},
   "outputs": [
    {
     "name": "stdout",
     "output_type": "stream",
     "text": [
      "   apple  orange  banana  kiwifruit\n",
      "1   45.0      68      37        NaN\n",
      "2   48.0      10      88        NaN\n",
      "3   65.0      84      71        NaN\n",
      "4   68.0      22      89        NaN\n",
      "1    NaN      38      17       76.0\n",
      "3    NaN      13       2        6.0\n",
      "5    NaN      73      77       80.0\n",
      "7    NaN      10      72       65.0\n",
      "   apple  orange  banana  orange  kiwifruit  banana\n",
      "1   45.0    68.0    37.0    38.0       76.0    17.0\n",
      "2   48.0    10.0    88.0     NaN        NaN     NaN\n",
      "3   65.0    84.0    71.0    13.0        6.0     2.0\n",
      "4   68.0    22.0    89.0     NaN        NaN     NaN\n",
      "5    NaN     NaN     NaN    73.0       80.0    77.0\n",
      "7    NaN     NaN     NaN    10.0       65.0    72.0\n"
     ]
    }
   ],
   "source": [
    "import numpy as np\n",
    "import pandas as pd\n",
    "\n",
    "# 지정한 인덱스와 컬럼을 가진 DataFrame을 난수로 생성하는 함수\n",
    "def make_random_df(index, columns, seed):\n",
    "    np.random.seed(seed)\n",
    "    df = pd.DataFrame()\n",
    "    for column in columns:\n",
    "        df[column] = np.random.choice(range(1, 101), len(index))\n",
    "    df.index = index\n",
    "    return df\n",
    "\n",
    "columns1 = [\"apple\", \"orange\", \"banana\"]\n",
    "columns2 = [\"orange\", \"kiwifruit\", \"banana\"]\n",
    "\n",
    "# 인덱스가 1, 2, 3, 4고, 컬럼이 columns1인 DataFrame을 만든다.\n",
    "df_data1 = make_random_df(range(1, 5), columns1, 0)\n",
    "\n",
    "# 인덱스가 1, 3, 5, 7이고, 컬럼이 columns2인 DataFrame을 만든다.\n",
    "df_data2 = make_random_df(np.arange(1, 8, 2), columns2, 1)\n",
    "\n",
    "# df_data1과 df_data2를 세로로 연결하여 df1에 대입\n",
    "df1 = pd.concat([df_data1, df_data2], axis = 0)\n",
    "\n",
    "# df_data1과 df_data2를 가로로 연결하여 df2에 대입\n",
    "df2 = pd.concat([df_data1, df_data2], axis = 1)\n",
    "\n",
    "print(df1)\n",
    "print(df2)"
   ]
  },
  {
   "cell_type": "code",
   "execution_count": 4,
   "id": "02672242",
   "metadata": {},
   "outputs": [
    {
     "name": "stdout",
     "output_type": "stream",
     "text": [
      "      X                   Y              \n",
      "  apple orange banana apple orange banana\n",
      "1    45     68     37    38     76     17\n",
      "2    48     10     88    13      6      2\n",
      "3    65     84     71    73     80     77\n",
      "4    68     22     89    10     65     72\n",
      "\n",
      "1    17\n",
      "2     2\n",
      "3    77\n",
      "4    72\n",
      "Name: (Y, banana), dtype: int64\n"
     ]
    }
   ],
   "source": [
    "import numpy as np\n",
    "import pandas as pd\n",
    "\n",
    "# 지정한 인덱스와 컬럼을 가진 DataFrame을 난수로 생성하는 함수\n",
    "def make_random_df(index, columns, seed):\n",
    "    np.random.seed(seed)\n",
    "    df = pd.DataFrame()\n",
    "    for column in columns:\n",
    "        df[column] = np.random.choice(range(1, 101), len(index))\n",
    "    df.index = index\n",
    "    return df\n",
    "\n",
    "# 인덱스와 컬럼이 일치하는 DataFrame읆 만든다.\n",
    "columns = [\"apple\", \"orange\", \"banana\"]\n",
    "df_data1 = make_random_df(range(1, 5), columns, 0)\n",
    "df_data2 = make_random_df(range(1, 5), columns, 1)\n",
    "\n",
    "# df_data1과 df_data2를 가로로 연결하고, keys로 \"X\"와 \"Y\"를 지정하여 MultiIndex로 만든 뒤 df에 대입\n",
    "df = pd.concat([df_data1, df_data2], axis = 1, keys=[\"X\", \"Y\"])\n",
    "\n",
    "# df의 \"Y\"레벨 \"banana\"를 Y_banana에 대입\n",
    "Y_banana = df[\"Y\", \"banana\"]\n",
    "\n",
    "print(df)\n",
    "print()\n",
    "print(Y_banana)"
   ]
  },
  {
   "cell_type": "code",
   "execution_count": 7,
   "id": "14af475c",
   "metadata": {},
   "outputs": [
    {
     "name": "stdout",
     "output_type": "stream",
     "text": [
      "       fruits  year  amount\n",
      "0       apple  2001       1\n",
      "1      orange  2002       4\n",
      "2      banana  2001       5\n",
      "3  strawberry  2008       6\n",
      "4   kiwifruit  2006       3\n",
      "\n",
      "       fruits  year  price\n",
      "0       apple  2001    150\n",
      "1      orange  2002    120\n",
      "2      banana  2001    100\n",
      "3  strawberry  2008    250\n",
      "4       mango  2007   3000\n",
      "\n",
      "       fruits  year_x  amount  year_y  price\n",
      "0       apple    2001       1    2001    150\n",
      "1      orange    2002       4    2002    120\n",
      "2      banana    2001       5    2001    100\n",
      "3  strawberry    2008       6    2008    250\n"
     ]
    }
   ],
   "source": [
    "import numpy as np\n",
    "import pandas as pd\n",
    "\n",
    "data1 = {\"fruits\": [\"apple\", \"orange\", \"banana\", \"strawberry\", \"kiwifruit\"],\n",
    "         \"year\": [2001, 2002, 2001, 2008, 2006],\n",
    "         \"amount\": [1, 4, 5, 6, 3]}\n",
    "df1 = pd.DataFrame(data1)\n",
    "\n",
    "data2 = {\"fruits\": [\"apple\", \"orange\", \"banana\", \"strawberry\", \"mango\"],\n",
    "         \"year\": [2001, 2002, 2001, 2008, 2007],\n",
    "         \"price\": [150, 120, 100, 250, 3000]}\n",
    "df2 = pd.DataFrame(data2)\n",
    "\n",
    "print(df1)\n",
    "print()\n",
    "print(df2)\n",
    "print()\n",
    "\n",
    "# df1과 df2의 컬럼 \"fruits\"를 key로 하여 내부 결합한 DataFrame을 df3에 대입\n",
    "df3 = pd.merge(df1, df2, on = \"fruits\", how = \"inner\")\n",
    "print(df3)"
   ]
  },
  {
   "cell_type": "code",
   "execution_count": null,
   "id": "35062403",
   "metadata": {},
   "outputs": [],
   "source": [
    "import numpy as np\n",
    "import pandas as pd\n",
    "\n",
    "data1 = [\"fruits\": [\"apple\", \"orange\", \"banana\", \"strawberry\", \"kiwifruit\"],\n",
    "         \"year\": [2001, 2002, 2001, 2008, 2006],\n",
    "         \"amount\": [1, 4, 5, 6, 3]]\n",
    "df1 = pd.DataFrame(data2)"
   ]
  }
 ],
 "metadata": {
  "kernelspec": {
   "display_name": "Python 3 (ipykernel)",
   "language": "python",
   "name": "python3"
  },
  "language_info": {
   "codemirror_mode": {
    "name": "ipython",
    "version": 3
   },
   "file_extension": ".py",
   "mimetype": "text/x-python",
   "name": "python",
   "nbconvert_exporter": "python",
   "pygments_lexer": "ipython3",
   "version": "3.9.7"
  }
 },
 "nbformat": 4,
 "nbformat_minor": 5
}
