{
 "cells": [
  {
   "cell_type": "code",
   "execution_count": 1,
   "id": "20d22322",
   "metadata": {},
   "outputs": [
    {
     "name": "stdout",
     "output_type": "stream",
     "text": [
      "orange    2\n",
      "banana    3\n",
      "dtype: int64\n"
     ]
    }
   ],
   "source": [
    "import pandas as pd\n",
    "\n",
    "fruits = {\"orange\" : 2, \"banana\" : 3}\n",
    "print(pd.Series(fruits))"
   ]
  },
  {
   "cell_type": "code",
   "execution_count": 2,
   "id": "14c557c2",
   "metadata": {},
   "outputs": [
    {
     "name": "stdout",
     "output_type": "stream",
     "text": [
      "       fruits  year  time\n",
      "0       apple  2001     1\n",
      "1      orange  2002     4\n",
      "2      banana  2001     5\n",
      "3  strawberry  2008     6\n",
      "4   kiwifruit  2006     3\n"
     ]
    }
   ],
   "source": [
    "import pandas as pd\n",
    "\n",
    "data = {\"fruits\" : [\"apple\", \"orange\", \"banana\", \"strawberry\", \"kiwifruit\"],\n",
    "        \"year\" : [2001, 2002, 2001, 2008, 2006],\n",
    "        \"time\" : [1, 4, 5, 6, 3]}\n",
    "df = pd.DataFrame(data)\n",
    "print(df)"
   ]
  },
  {
   "cell_type": "code",
   "execution_count": 1,
   "id": "ac486b98",
   "metadata": {},
   "outputs": [
    {
     "name": "stdout",
     "output_type": "stream",
     "text": [
      "[10  5  8 12  3]\n",
      "Index(['apple', 'orange', 'banana', 'strawberry', 'kiwifruit'], dtype='object')\n"
     ]
    }
   ],
   "source": [
    "import pandas as pd\n",
    "\n",
    "index = [\"apple\", \"orange\", \"banana\", \"strawberry\", \"kiwifruit\"]\n",
    "data = [10, 5, 8, 12 ,3]\n",
    "series = pd.Series(data, index = index)\n",
    "\n",
    "series_values = series.values # series의 데이터 대입\n",
    "series_index = series.index # series의 인덱스 대입\n",
    "\n",
    "print(series_values)\n",
    "print(series_index)"
   ]
  },
  {
   "cell_type": "code",
   "execution_count": 4,
   "id": "38bbdd4e",
   "metadata": {},
   "outputs": [
    {
     "name": "stdout",
     "output_type": "stream",
     "text": [
      "apple         10\n",
      "orange         5\n",
      "banana         8\n",
      "strawberry    12\n",
      "kiwifruit      3\n",
      "pineapple     12\n",
      "dtype: int64\n",
      "apple        10\n",
      "orange        5\n",
      "banana        8\n",
      "kiwifruit     3\n",
      "pineapple    12\n",
      "dtype: int64\n"
     ]
    }
   ],
   "source": [
    "import pandas as pd\n",
    "\n",
    "index = [\"apple\", \"orange\", \"banana\", \"strawberry\", \"kiwifruit\"]\n",
    "data = [10, 5, 8, 12 ,3]\n",
    "\n",
    "series = pd.Series(data, index = index)\n",
    "\n",
    "pineapple = pd.Series([12], index = [\"pineapple\"]) # pineapple의 시리즈 요소 정의\n",
    "series = series.append(pineapple) # 시리즈에 추가\n",
    "\n",
    "print(series)\n",
    "\n",
    "series = series.drop(\"strawberry\") # strawberry 요소 삭제\n",
    "print(series)"
   ]
  },
  {
   "cell_type": "code",
   "execution_count": 5,
   "id": "a68a7469",
   "metadata": {},
   "outputs": [
    {
     "name": "stdout",
     "output_type": "stream",
     "text": [
      "orange    5\n",
      "banana    8\n",
      "dtype: int64\n"
     ]
    }
   ],
   "source": [
    "import pandas as pd\n",
    "\n",
    "index = [\"apple\", \"orange\", \"banana\", \"strawberry\", \"kiwifruit\"]\n",
    "data = [10, 5, 8, 12, 3]\n",
    "series = pd.Series(data, index = index)\n",
    "\n",
    "series = series[series >= 5][series < 10] # 필터링 (5 이상 10 미만의 series 데이터만 저장)\n",
    "print(series)"
   ]
  },
  {
   "cell_type": "code",
   "execution_count": 9,
   "id": "1ef4d19e",
   "metadata": {},
   "outputs": [
    {
     "name": "stdout",
     "output_type": "stream",
     "text": [
      "apple         10\n",
      "banana         8\n",
      "kiwifruit      3\n",
      "orange         5\n",
      "strawberry    12\n",
      "dtype: int64\n",
      "\n",
      "kiwifruit      3\n",
      "orange         5\n",
      "banana         8\n",
      "apple         10\n",
      "strawberry    12\n",
      "dtype: int64\n"
     ]
    }
   ],
   "source": [
    "import pandas as pd\n",
    "\n",
    "index = [\"apple\", \"orange\", \"banana\", \"strawberry\", \"kiwifruit\"]\n",
    "data = [10, 5, 8, 12, 3]\n",
    "series = pd.Series(data, index = index)\n",
    "\n",
    "items1 = series.sort_index() # series의 인덱스를 알파벳 순으로 정렬해서 items1에 대입\n",
    "\n",
    "items2 = series.sort_values() # series의 데이터값을 오름차순으로 정렬해서 items2에 대입\n",
    "\n",
    "\n",
    "print(items1)\n",
    "print()\n",
    "print(items2)"
   ]
  },
  {
   "cell_type": "code",
   "execution_count": 12,
   "id": "cd86698f",
   "metadata": {},
   "outputs": [
    {
     "name": "stdout",
     "output_type": "stream",
     "text": [
      "   apple  orange  banana  strawberry  kiwifruit\n",
      "1     10       5       8          12          3\n",
      "2     30      25      12          10          8\n"
     ]
    }
   ],
   "source": [
    "import pandas as pd\n",
    "\n",
    "index = [\"apple\", \"orange\", \"banana\", \"strawberry\", \"kiwifruit\"]\n",
    "data1 = [10, 5, 8, 12, 3]\n",
    "data2 = [30, 25, 12, 10, 8]\n",
    "series1 = pd.Series(data1, index=index) # 첫 번째 시리즈 생성 \n",
    "series2 = pd.Series(data2, index=index) # 두 번째 시리즈 생성\n",
    "\n",
    "df = pd.DataFrame([series1, series2])\n",
    "df.index = [1,2] # df의 인덱스가 1부터 시작하도록 설정\n",
    "print(df)"
   ]
  },
  {
   "cell_type": "code",
   "execution_count": 13,
   "id": "66e7b57d",
   "metadata": {},
   "outputs": [
    {
     "name": "stdout",
     "output_type": "stream",
     "text": [
      "   apple  orange  banana  strawberry  kiwifruit  pineapple\n",
      "0     10       5       8          12          3        NaN\n",
      "1     30      25      12          10          8        NaN\n",
      "2     30      12      10           8         25        3.0\n"
     ]
    }
   ],
   "source": [
    "import pandas as pd\n",
    "\n",
    "index = [\"apple\", \"orange\", \"banana\", \"strawberry\", \"kiwifruit\"]\n",
    "data1 = [10, 5, 8, 12, 3]\n",
    "data2 = [30, 25, 12, 10, 8]\n",
    "data3 = [30, 12, 10, 8, 25, 3]\n",
    "series1 = pd.Series(data1, index = index)\n",
    "series2 = pd.Series(data2, index = index)\n",
    "\n",
    "# df에 series3을 추가하고 df에 다시 대입\n",
    "index.append(\"pineapple\")\n",
    "series3 = pd.Series(data3, index = index)\n",
    "df = pd.DataFrame([series1, series2])\n",
    "\n",
    "# df에 다시 대입\n",
    "df = df.append(series3, ignore_index = True)\n",
    "print(df)"
   ]
  },
  {
   "cell_type": "code",
   "execution_count": 14,
   "id": "0c35a8aa",
   "metadata": {},
   "outputs": [
    {
     "name": "stdout",
     "output_type": "stream",
     "text": [
      "   apple  orange  banana  strawberry  kiwifruit  mango\n",
      "0     10       5       8          12          3     15\n",
      "1     30      25      12          10          8      7\n"
     ]
    }
   ],
   "source": [
    "import pandas as pd\n",
    "\n",
    "index = [\"apple\", \"orange\", \"banana\", \"strawberry\", \"kiwifruit\"]\n",
    "data1 = [10, 5, 8, 12 ,3]\n",
    "data2 = [30, 25, 12, 10, 8]\n",
    "series1 = pd.Series(data1, index=index)\n",
    "series2 = pd.Series(data2, index=index)\n",
    "\n",
    "new_column = pd.Series([15, 7], index=[0, 1])\n",
    "\n",
    "# series1과 series2로 DataFrame 생성\n",
    "df = pd.DataFrame([series1, series2])\n",
    "\n",
    "# df에 새로운 열 \"mango\"를 만들어 new_column의 데이터를 추가\n",
    "df[\"mango\"] = new_column\n",
    "\n",
    "print(df)"
   ]
  },
  {
   "cell_type": "code",
   "execution_count": 18,
   "id": "7c1e0821",
   "metadata": {},
   "outputs": [
    {
     "name": "stdout",
     "output_type": "stream",
     "text": [
      "   banana  kiwifruit\n",
      "2      10         10\n",
      "3       9          1\n",
      "4      10          5\n",
      "5       5          8\n"
     ]
    }
   ],
   "source": [
    "import numpy as np\n",
    "import pandas as pd\n",
    "np.random.seed(0)\n",
    "columns = [\"apple\", \"orange\", \"banana\", \"strawberry\", \"kiwifruit\"]\n",
    "\n",
    "# DataFrame을 생성하고 열을 추가\n",
    "df = pd.DataFrame()\n",
    "for column in columns : \n",
    "    df[column] = np.random.choice(range(1,11), 10)\n",
    "\n",
    "# range(시작행수, 종료행수 - 1)\n",
    "df.index = range(1, 11)\n",
    "\n",
    "# loc[]을 사용하여 df와 2~5행(4개 행)과 \"banana\", \"kiwifruit\"의 2열을 포함한 DataFrame을 df에 대입\n",
    "df = df.loc[range(2, 6), [\"banana\", \"kiwifruit\"]]\n",
    "print(df)"
   ]
  },
  {
   "cell_type": "code",
   "execution_count": 21,
   "id": "105c9309",
   "metadata": {},
   "outputs": [
    {
     "name": "stdout",
     "output_type": "stream",
     "text": [
      "   apple  orange  banana  kiwifruit\n",
      "1      1      11       1          1\n",
      "3     11       1      11          1\n",
      "5     11       1       1         11\n",
      "7     11       1      11         11\n",
      "9     11       1      11          1\n"
     ]
    }
   ],
   "source": [
    "import numpy as np\n",
    "import pandas as pd\n",
    "\n",
    "np.random.seed(0)\n",
    "columns = [\"apple\", \"orange\", \"banana\", \"strawberry\", \"kiwifruit\"]\n",
    "\n",
    "# DataFrame을 생성하고 열을 추가\n",
    "df = pd.DataFrame()\n",
    "for column in columns : \n",
    "    df[column] = np.random.choice((1, 11),10)\n",
    "df.index = range(1, 11)\n",
    "\n",
    "# drop()을 이용하여 df에서 홀수 인덱스가 붙은 행만 남겨 df에 대입\n",
    "df = df.drop(np.arange(2, 11, 2))\n",
    "\n",
    "# drop()을 이용하여 df의 열 \"strawberry\"를 삭제하고 df에 대입\n",
    "df = df.drop(\"strawberry\", axis = 1)\n",
    "\n",
    "print(df)"
   ]
  },
  {
   "cell_type": "code",
   "execution_count": 24,
   "id": "052630ab",
   "metadata": {},
   "outputs": [
    {
     "name": "stdout",
     "output_type": "stream",
     "text": [
      "    apple  orange  banana  strawberry  kiwifruit\n",
      "2       1       7      10           4         10\n",
      "9       3       9       6           1          3\n",
      "7       4       8       1           4          3\n",
      "3       4       9       9           9          1\n",
      "4       4       9      10           2          5\n",
      "10      5       2       1           2          1\n",
      "8       6       8       4           8          8\n",
      "1       6       8       6           3         10\n",
      "5       8       2       5           4          8\n",
      "6      10       7       4           4          4\n"
     ]
    }
   ],
   "source": [
    "import numpy as np\n",
    "import pandas as pd\n",
    "\n",
    "np.random.seed(0)\n",
    "columns = [\"apple\", \"orange\", \"banana\", \"strawberry\", \"kiwifruit\"]\n",
    "\n",
    "# DataFrame을 생성하고 열 추가\n",
    "df = pd.DataFrame()\n",
    "for column in columns:\n",
    "    df[column] = np.random.choice(range(1, 11), 10)\n",
    "df.index = range(1, 11)\n",
    "\n",
    "# df를 \"apple\", \"orange\", \"banana\", \"strawberry\", \"kiwifruit\" 순으로 오름차순 정렬\n",
    "df = df.sort_values(by=columns)\n",
    "print(df)"
   ]
  },
  {
   "cell_type": "code",
   "execution_count": 25,
   "id": "4b38eeb7",
   "metadata": {},
   "outputs": [
    {
     "name": "stdout",
     "output_type": "stream",
     "text": [
      "   apple  orange  banana  strawberry  kiwifruit\n",
      "1      6       8       6           3         10\n",
      "5      8       2       5           4          8\n",
      "8      6       8       4           8          8\n"
     ]
    }
   ],
   "source": [
    "import numpy as np\n",
    "import pandas as pd\n",
    "\n",
    "np.random.seed(0)\n",
    "columns = [\"apple\", \"orange\", \"banana\", \"strawberry\", \"kiwifruit\"]\n",
    "\n",
    "# DataFrame을 생성하고 열을 추가\n",
    "df = pd.DataFrame()\n",
    "for column in columns : \n",
    "    df[column] = np.random.choice(range(1, 11), 10)\n",
    "df.index = range(1, 11)\n",
    "\n",
    "# 필터링을 사용하여 df의 \"apple\" 열이 5 이상, \"kiwifruit\" 열이 5 이상의 값을 가진 행을 포함한 DataFrame df에 대입\n",
    "df = df.loc[df[\"apple\"] >= 5]\n",
    "df = df.loc[df[\"kiwifruit\"] >= 5]\n",
    "\n",
    "print(df)"
   ]
  },
  {
   "cell_type": "code",
   "execution_count": 27,
   "id": "edef725c",
   "metadata": {},
   "outputs": [
    {
     "name": "stdout",
     "output_type": "stream",
     "text": [
      "growth      50\n",
      "ishikawa    26\n",
      "mission      7\n",
      "pro          1\n",
      "dtype: int64\n",
      "\n",
      "growth      50\n",
      "mission      7\n",
      "ishikawa    26\n",
      "pro          1\n",
      "tutor       30\n",
      "dtype: int64\n",
      "\n",
      "   ishikawa\n",
      "2         1\n",
      "3        11\n",
      "4        11\n",
      "5         1\n"
     ]
    }
   ],
   "source": [
    "import numpy as np\n",
    "import pandas as pd\n",
    "\n",
    "index = [\"growth\", \"mission\", \"ishikawa\", \"pro\"]\n",
    "data = [50, 7, 26, 1]\n",
    "\n",
    "# series 작성\n",
    "series = pd.Series(data, index = index)\n",
    "\n",
    "# 인덱스를 알파벳 순으로 정렬한 series를 aidemy에 대입\n",
    "aidemy = series.sort_index()\n",
    "\n",
    "# 인덱스가 \"tutor\"고, 데이터가 30인 요소를 series에 추가\n",
    "aidemy1 = pd.Series([30], index = [\"tutor\"])\n",
    "aidemy2 = series.append(aidemy1)\n",
    "\n",
    "print(aidemy)\n",
    "print()\n",
    "print(aidemy2)\n",
    "\n",
    "# DataFrame을 생성하고 열을 추가\n",
    "df = pd.DataFrame()\n",
    "for index in index :\n",
    "    df[index] = np.random.choice((1, 11), 10)\n",
    "\n",
    "# range(시작행, 종료행 - 1)\n",
    "df.index = range(1, 11)\n",
    "\n",
    "# loc[]을 사용하여 df의 2~5행 (4개 행)과 \"banana\", \"kiwifruit\"의 2열을 포함한 DataFrame을 df에 대입\n",
    "aidemy3 = df.loc[range(2, 6), [\"ishikawa\"]]\n",
    "print()\n",
    "print(aidemy3)"
   ]
  },
  {
   "cell_type": "code",
   "execution_count": null,
   "id": "913f76d7",
   "metadata": {},
   "outputs": [],
   "source": []
  }
 ],
 "metadata": {
  "kernelspec": {
   "display_name": "Python 3 (ipykernel)",
   "language": "python",
   "name": "python3"
  },
  "language_info": {
   "codemirror_mode": {
    "name": "ipython",
    "version": 3
   },
   "file_extension": ".py",
   "mimetype": "text/x-python",
   "name": "python",
   "nbconvert_exporter": "python",
   "pygments_lexer": "ipython3",
   "version": "3.9.7"
  }
 },
 "nbformat": 4,
 "nbformat_minor": 5
}
