{
 "cells": [
  {
   "cell_type": "code",
   "execution_count": 1,
   "id": "20d22322",
   "metadata": {},
   "outputs": [
    {
     "name": "stdout",
     "output_type": "stream",
     "text": [
      "orange    2\n",
      "banana    3\n",
      "dtype: int64\n"
     ]
    }
   ],
   "source": [
    "# pandas를 pd로 import\n",
    "import pandas as pd\n",
    "\n",
    "# series 데이터\n",
    "fruits = {\"orange\" : 2, \"banana\" : 3}\n",
    "print(pd.Series(fruits))"
   ]
  },
  {
   "cell_type": "code",
   "execution_count": 2,
   "id": "14c557c2",
   "metadata": {},
   "outputs": [
    {
     "name": "stdout",
     "output_type": "stream",
     "text": [
      "       fruits  year  time\n",
      "0       apple  2001     1\n",
      "1      orange  2002     4\n",
      "2      banana  2001     5\n",
      "3  strawberry  2008     6\n",
      "4   kiwifruit  2006     3\n"
     ]
    }
   ],
   "source": [
    "# Pandas를 pd로 import\n",
    "import pandas as pd\n",
    "\n",
    "# DataFrame 데이터\n",
    "data = {\"fruits\" : [\"apple\", \"orange\", \"banana\", \"strawberry\", \"kiwifruit\"],\n",
    "        \"year\" : [2001, 2002, 2001, 2008, 2006],\n",
    "        \"time\" : [1, 4, 5, 6, 3]}\n",
    "df = pd.DataFrame(data)\n",
    "print(df)"
   ]
  },
  {
   "cell_type": "code",
   "execution_count": 2,
   "id": "ac486b98",
   "metadata": {},
   "outputs": [
    {
     "name": "stdout",
     "output_type": "stream",
     "text": [
      "Series 데이터\n",
      "apple         10\n",
      "orange         5\n",
      "banana         8\n",
      "strawberry    12\n",
      "kiwifruit      3\n",
      "dtype: int64\n",
      "\n",
      "\n",
      "DataFrame 데이터\n",
      "       fruits  year  time\n",
      "0       apple  2001     1\n",
      "1      orange  2002     4\n",
      "2      banana  2001     5\n",
      "3  strawberry  2008     6\n",
      "4   kiwifruit  2006     3\n"
     ]
    }
   ],
   "source": [
    "# Pandas를 pd로 import\n",
    "import pandas as pd\n",
    "\n",
    "# Series용 라벨(인덱스)을 작성\n",
    "index = [\"apple\", \"orange\", \"banana\", \"strawberry\", \"kiwifruit\"]\n",
    "\n",
    "# Series용 데이터를 대입\n",
    "data = [10, 5, 8, 12, 3]\n",
    "\n",
    "# Series 작성\n",
    "series = pd.Series(data, index=index)\n",
    "\n",
    "# 딕셔너리형을 사용하여 DataFrame용 데이터 작성\n",
    "data = {\"fruits\" : [\"apple\", \"orange\", \"banana\", \"strawberry\", \"kiwifruit\"],\n",
    "        \"year\" : [2001, 2002, 2001, 2008, 2006],\n",
    "        \"time\" : [1, 4, 5, 6, 3]}\n",
    "\n",
    "# DataFrame 작성\n",
    "df = pd.DataFrame(data)\n",
    "\n",
    "print(\"Series 데이터\")\n",
    "print(series)\n",
    "print(\"\\n\")\n",
    "print(\"DataFrame 데이터\")\n",
    "print(df)"
   ]
  },
  {
   "cell_type": "code",
   "execution_count": 3,
   "id": "cdb65f39",
   "metadata": {},
   "outputs": [
    {
     "name": "stdout",
     "output_type": "stream",
     "text": [
      "banana    3\n",
      "orange    2\n",
      "dtype: int64\n"
     ]
    }
   ],
   "source": [
    "# pandas를 pd로 import\n",
    "import pandas as pd\n",
    "\n",
    "fruits = {\"banana\": 3, \"orange\": 2}\n",
    "print(pd.Series(fruits))"
   ]
  },
  {
   "cell_type": "code",
   "execution_count": 7,
   "id": "28b96397",
   "metadata": {},
   "outputs": [
    {
     "name": "stdout",
     "output_type": "stream",
     "text": [
      "apple         10\n",
      "orange         5\n",
      "banana         8\n",
      "strawberry    12\n",
      "kiwifruit      3\n",
      "dtype: int64\n"
     ]
    }
   ],
   "source": [
    "# Pandas를 pd로 import\n",
    "import pandas as pd\n",
    "\n",
    "index = [\"apple\", \"orange\", \"banana\", \"strawberry\", \"kiwifruit\"]\n",
    "data = [10, 5, 8, 12, 3]\n",
    "\n",
    "# index와 data를 포함한 Series를 만들어 series에 대입\n",
    "series = pd.Series(data, index = index)\n",
    "print(series)"
   ]
  },
  {
   "cell_type": "code",
   "execution_count": 8,
   "id": "7ed5ba6e",
   "metadata": {},
   "outputs": [
    {
     "name": "stdout",
     "output_type": "stream",
     "text": [
      "banana    3\n",
      "orange    4\n",
      "dtype: int64\n"
     ]
    }
   ],
   "source": [
    "import pandas as pd\n",
    "fruits = {\"banana\" : 3, \"orange\" : 4, \"grape\" : 1, \"peach\" : 5}\n",
    "series = pd.Series(fruits)\n",
    "print(series[0:2])"
   ]
  },
  {
   "cell_type": "code",
   "execution_count": null,
   "id": "e1c2c668",
   "metadata": {},
   "outputs": [],
   "source": [
    "import pandas as pd\n",
    "\n",
    "index = [\"apple\", \"orange\", \"banana\", \"strawberry\", \"kiwifruit\"]\n",
    "data = [10, 5, 8, 12, 3]\n",
    "series = pd.Series(data, index = index)\n",
    "\n",
    "item1 = series[1:4]\n",
    "item2 = series[]"
   ]
  }
 ],
 "metadata": {
  "kernelspec": {
   "display_name": "Python 3 (ipykernel)",
   "language": "python",
   "name": "python3"
  },
  "language_info": {
   "codemirror_mode": {
    "name": "ipython",
    "version": 3
   },
   "file_extension": ".py",
   "mimetype": "text/x-python",
   "name": "python",
   "nbconvert_exporter": "python",
   "pygments_lexer": "ipython3",
   "version": "3.9.7"
  }
 },
 "nbformat": 4,
 "nbformat_minor": 5
}
